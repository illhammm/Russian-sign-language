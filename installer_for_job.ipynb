{
  "cells": [
    {
      "cell_type": "markdown",
      "metadata": {
        "id": "view-in-github",
        "colab_type": "text"
      },
      "source": [
        "<a href=\"https://colab.research.google.com/github/illhammm/Russian-sign-language/blob/installer_for_start/installer_for_job.ipynb\" target=\"_parent\"><img src=\"https://colab.research.google.com/assets/colab-badge.svg\" alt=\"Open In Colab\"/></a>"
      ]
    },
    {
      "cell_type": "code",
      "execution_count": 1,
      "metadata": {
        "collapsed": true,
        "ExecuteTime": {
          "end_time": "2024-01-08T10:15:18.567138Z",
          "start_time": "2024-01-08T10:15:15.525445100Z"
        },
        "colab": {
          "base_uri": "https://localhost:8080/"
        },
        "id": "Ih3wnJhHZDQ9",
        "outputId": "82aa1bd3-d5fc-4eee-a540-5c06869f57a5"
      },
      "outputs": [
        {
          "output_type": "stream",
          "name": "stdout",
          "text": [
            "Requirement already satisfied: opencv-python in /usr/local/lib/python3.10/dist-packages (4.8.0.76)\n",
            "Requirement already satisfied: numpy>=1.21.2 in /usr/local/lib/python3.10/dist-packages (from opencv-python) (1.23.5)\n"
          ]
        }
      ],
      "source": [
        "pip install opencv-python"
      ]
    },
    {
      "cell_type": "code",
      "execution_count": 3,
      "outputs": [],
      "source": [
        "import cv2\n",
        "import argparse"
      ],
      "metadata": {
        "ExecuteTime": {
          "end_time": "2024-01-08T10:15:26.689237Z",
          "start_time": "2024-01-08T10:15:26.191900200Z"
        },
        "id": "YEcIDmryZDQ_"
      }
    },
    {
      "cell_type": "code",
      "execution_count": 4,
      "outputs": [],
      "source": [
        "import pandas as pd\n",
        "import numpy as np\n",
        "import cv2\n",
        "import matplotlib.pyplot as plt\n",
        "\n",
        "from glob import glob\n",
        "\n",
        "import IPython.display as ipd\n",
        "from tqdm import tqdm\n",
        "\n",
        "import subprocess\n",
        "\n",
        "plt.style.use('ggplot')"
      ],
      "metadata": {
        "ExecuteTime": {
          "end_time": "2024-01-08T10:18:44.505617200Z",
          "start_time": "2024-01-08T10:18:43.643004700Z"
        },
        "id": "ABCluk8UZDQ_"
      }
    },
    {
      "cell_type": "markdown",
      "source": [
        "OpenCV (Open Source Computer Vision) - библиотека компьютерного зрения, предназначенная для обработки изображений и видео. Это может быть полезным при работе с кадрами видео и изображениями."
      ],
      "metadata": {
        "collapsed": false,
        "id": "BDRYyNlCZDRA"
      }
    },
    {
      "cell_type": "markdown",
      "source": [
        "plt или иначе говоря библиотека matplotlib.pyplot, что удобно для создания графиков и отображения изображений"
      ],
      "metadata": {
        "collapsed": false,
        "id": "Hs0SZKQnZDRB"
      }
    },
    {
      "cell_type": "markdown",
      "source": [
        "from glob import glob установщик добавляет функцию glob из модуля glob, который даёт возможность поиска файлов с использованием шаблонов"
      ],
      "metadata": {
        "collapsed": false,
        "id": "PLjZS-sqZDRB"
      }
    },
    {
      "cell_type": "markdown",
      "source": [
        "IPython.display иначе ipd. Позволяет встраивать мультимедийные объекты, такие как аудио и видео, в блокноты Jupyter"
      ],
      "metadata": {
        "collapsed": false,
        "id": "itebljGJZDRB"
      }
    },
    {
      "cell_type": "markdown",
      "source": [
        "from tqdm import tqdm установщик добавляет библиотеку tqdm, которая предоставляет полосу прогресса для отслеживания выполнения циклов и операций, что удобно при обработке больших объемов данных"
      ],
      "metadata": {
        "collapsed": false,
        "id": "0HjSVIhYZDRC"
      }
    },
    {
      "cell_type": "markdown",
      "source": [
        "import subprocess установщик добавляет модуль subprocess, который позволяет запускать внешние процессы (команды) из Python. Например, конвертация видео с использованием ffmpeg."
      ],
      "metadata": {
        "collapsed": false,
        "id": "EPxQzvfcZDRC"
      }
    },
    {
      "cell_type": "code",
      "execution_count": 5,
      "outputs": [],
      "source": [
        "cap = cv2.VideoCapture('0000f6de-ba06-43fc-9cc7-3a93f4350b04.mp4')"
      ],
      "metadata": {
        "ExecuteTime": {
          "end_time": "2024-01-08T10:18:47.317684700Z",
          "start_time": "2024-01-08T10:18:46.648440Z"
        },
        "id": "Iuvzy9KjZDRC"
      }
    },
    {
      "cell_type": "code",
      "outputs": [],
      "source": [],
      "metadata": {
        "id": "27xitqtcZDRD"
      },
      "execution_count": null
    }
  ],
  "metadata": {
    "kernelspec": {
      "display_name": "Python 3",
      "language": "python",
      "name": "python3"
    },
    "language_info": {
      "codemirror_mode": {
        "name": "ipython",
        "version": 2
      },
      "file_extension": ".py",
      "mimetype": "text/x-python",
      "name": "python",
      "nbconvert_exporter": "python",
      "pygments_lexer": "ipython2",
      "version": "2.7.6"
    },
    "colab": {
      "provenance": [],
      "include_colab_link": true
    }
  },
  "nbformat": 4,
  "nbformat_minor": 0
}